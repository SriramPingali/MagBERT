{
 "cells": [
  {
   "cell_type": "code",
   "execution_count": 1,
   "metadata": {},
   "outputs": [],
   "source": [
    "from pypdb import *"
   ]
  },
  {
   "cell_type": "code",
   "execution_count": 2,
   "metadata": {},
   "outputs": [],
   "source": [
    "import Bio\n",
    "from Bio.PDB import PDBList\n",
    "pdbl = PDBList()"
   ]
  },
  {
   "cell_type": "code",
   "execution_count": 3,
   "metadata": {},
   "outputs": [],
   "source": [
    "def gene_to_pdb(pdb_id):\n",
    "    found_pdbs = Query(pdb_id).search()\n",
    "    temp= []\n",
    "    for j in found_pdbs:\n",
    "        temp.append(int(describe_pdb(j)['nr_residues']))\n",
    "    final_pdb_id = found_pdbs[temp.index(max(temp))]\n",
    "    print (final_pdb_id)\n",
    "    pdbl.retrieve_pdb_file(final_pdb_id,pdir='PDB', file_format='pdb')"
   ]
  },
  {
   "cell_type": "code",
   "execution_count": 4,
   "metadata": {},
   "outputs": [
    {
     "name": "stdout",
     "output_type": "stream",
     "text": [
      "5ES4\n",
      "Downloading PDB structure '5ES4'...\n"
     ]
    }
   ],
   "source": [
    "gene_to_pdb('ITGB2')"
   ]
  },
  {
   "cell_type": "code",
   "execution_count": null,
   "metadata": {},
   "outputs": [],
   "source": []
  }
 ],
 "metadata": {
  "kernelspec": {
   "display_name": "Python 3",
   "language": "python",
   "name": "python3"
  },
  "language_info": {
   "codemirror_mode": {
    "name": "ipython",
    "version": 3
   },
   "file_extension": ".py",
   "mimetype": "text/x-python",
   "name": "python",
   "nbconvert_exporter": "python",
   "pygments_lexer": "ipython3",
   "version": "3.8.3"
  }
 },
 "nbformat": 4,
 "nbformat_minor": 4
}
