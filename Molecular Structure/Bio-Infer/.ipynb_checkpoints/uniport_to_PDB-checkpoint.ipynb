{
 "cells": [
  {
   "cell_type": "code",
   "execution_count": 1,
   "metadata": {},
   "outputs": [],
   "source": [
    "from pypdb import *\n",
    "import mygene"
   ]
  },
  {
   "cell_type": "code",
   "execution_count": 2,
   "metadata": {},
   "outputs": [],
   "source": [
    "import numpy as np\n",
    "import pandas as pd"
   ]
  },
  {
   "cell_type": "code",
   "execution_count": 3,
   "metadata": {},
   "outputs": [],
   "source": [
    "mg = mygene.MyGeneInfo()"
   ]
  },
  {
   "cell_type": "code",
   "execution_count": 4,
   "metadata": {},
   "outputs": [],
   "source": [
    "gen = ['ITGB2']"
   ]
  },
  {
   "cell_type": "code",
   "execution_count": 5,
   "metadata": {},
   "outputs": [
    {
     "name": "stdout",
     "output_type": "stream",
     "text": [
      "querying 1-1...done.\n",
      "Finished.\n",
      "1 input query terms found dup hits:\n",
      "\t[('ITGB2', 2)]\n",
      "Pass \"returnall=True\" to return complete lists of duplicate or missing query terms.\n"
     ]
    }
   ],
   "source": [
    "#getting information about gene including Uniprot Id\n",
    "a = mg.querymany(gen, scopes='symbol, name', fields='uniprot', species = 'human')"
   ]
  },
  {
   "cell_type": "code",
   "execution_count": 6,
   "metadata": {},
   "outputs": [
    {
     "data": {
      "text/plain": [
       "[{'query': 'ITGB2',\n",
       "  '_id': '3689',\n",
       "  '_score': 87.19441,\n",
       "  'uniprot': {'Swiss-Prot': 'P05107',\n",
       "   'TrEMBL': ['A0A494C0X7',\n",
       "    'B4E0R1',\n",
       "    'E5RHT0',\n",
       "    'D3DSM0',\n",
       "    'A8MVG7',\n",
       "    'E5RK54',\n",
       "    'E5RGK9',\n",
       "    'E5RFI0',\n",
       "    'E5RIE4',\n",
       "    'E5RK25',\n",
       "    'E5RHE6',\n",
       "    'J3KNI6',\n",
       "    'E5RIG7',\n",
       "    'E7EVZ9']}},\n",
       " {'query': 'ITGB2', '_id': '100505746', '_score': 18.91322}]"
      ]
     },
     "execution_count": 6,
     "metadata": {},
     "output_type": "execute_result"
    }
   ],
   "source": [
    "a"
   ]
  },
  {
   "cell_type": "code",
   "execution_count": 7,
   "metadata": {},
   "outputs": [
    {
     "name": "stdout",
     "output_type": "stream",
     "text": [
      "{'P05107': ['1JX3', '1L3Y', '1YUK', '2JF1', '2P26', '2P28', '2V7D', '3K6S', '3K71', '3K72', '4NEH', '4NEN', '5E6R', '5E6S', '5E6U', '5E6V', '5E6W', '5E6X', '5ES4', '5XR1', '5ZAZ']}\n"
     ]
    }
   ],
   "source": [
    "#getting PDB Id for list of Uniprot Ids of proteins\n",
    "uniprot_ids = ['P05107']\n",
    "url = 'https://www.uniprot.org/uniprot/'\n",
    "\n",
    "protein_to_pdb = {}\n",
    "for protein in uniprot_ids:\n",
    "    params = {\n",
    "        'format': 'tab',\n",
    "        'query': 'ID:{}'.format(protein),\n",
    "        'columns': 'id,database(PDB)'\n",
    "    }\n",
    "    contact = \"\"  # Please set your email address here.\n",
    "    headers = {'User-Agent': 'Python {}'.format(contact)}\n",
    "    r = requests.get(url, params=params, headers=headers)\n",
    "    protein_to_pdb[protein] = str(r.text).splitlines()[-1].split('\\t')[-1].split(';')\n",
    "    protein_to_pdb[protein].pop(-1)\n",
    "    time.sleep(1)  # be respectful and don't overwhelm the server with requests\n",
    "\n",
    "print(protein_to_pdb)"
   ]
  },
  {
   "cell_type": "code",
   "execution_count": 8,
   "metadata": {},
   "outputs": [],
   "source": [
    "#Download PDB file\n",
    "for uid, pdbid in protein_to_pdb.items():\n",
    "    try:\n",
    "        pdbid[0]\n",
    "        pdb_file = pypdb.get_pdb_file(pdbid[0], filetype='pdb', compression=False)\n",
    "        if pdb_file != None:\n",
    "            with open(pdbid[0]+'.pdb', 'w') as myfile:\n",
    "                myfile.write(pdb_file)\n",
    "    except:\n",
    "        pass"
   ]
  },
  {
   "cell_type": "code",
   "execution_count": null,
   "metadata": {},
   "outputs": [],
   "source": []
  }
 ],
 "metadata": {
  "kernelspec": {
   "display_name": "Python 3",
   "language": "python",
   "name": "python3"
  },
  "language_info": {
   "codemirror_mode": {
    "name": "ipython",
    "version": 3
   },
   "file_extension": ".py",
   "mimetype": "text/x-python",
   "name": "python",
   "nbconvert_exporter": "python",
   "pygments_lexer": "ipython3",
   "version": "3.6.5"
  }
 },
 "nbformat": 4,
 "nbformat_minor": 2
}
