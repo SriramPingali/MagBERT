{
 "cells": [
  {
   "cell_type": "code",
   "execution_count": null,
   "metadata": {
    "id": "PMpUulS90eo8"
   },
   "outputs": [],
   "source": [
    "# Program extracting first column \n",
    "import xlrd\n",
    "\n",
    "loc = (\"./utils/Modified_Bioinfer_label.xlsx\")\n",
    "\n",
    "wb = xlrd.open_workbook(loc)\n",
    "sheet = wb.sheet_by_index(0) \n",
    "sheet.cell_value(0, 0) \n",
    "PPI = []\n",
    "\n",
    "for i in range(1, sheet.nrows): \n",
    "    temp = []\n",
    "    for j in range(sheet.ncols):\n",
    "        temp.append(sheet.cell_value(i, j))\n",
    "    PPI.append(temp)"
   ]
  },
  {
   "cell_type": "markdown",
   "metadata": {
    "id": "qVN4U-lK0epE"
   },
   "source": [
    "## Vocabulary"
   ]
  },
  {
   "cell_type": "code",
   "execution_count": null,
   "metadata": {
    "colab": {
     "base_uri": "https://localhost:8080/"
    },
    "id": "GvxXnKsa0epF",
    "outputId": "b6e4deef-d053-4b05-f957-d06898763946"
   },
   "outputs": [],
   "source": [
    "import nltk\n",
    "for dependency in (\"brown\", \"names\", \"wordnet\", \"averaged_perceptron_tagger\", \"universal_tagset\", \"punkt\", \"stopwords\"):\n",
    "    nltk.download(dependency)"
   ]
  },
  {
   "cell_type": "code",
   "execution_count": null,
   "metadata": {
    "id": "sBf7oKmIxlt9"
   },
   "outputs": [],
   "source": [
    "import string\r\n",
    "import numpy as np\r\n",
    "from nltk.corpus import stopwords\r\n",
    "from nltk.tokenize import word_tokenize, sent_tokenize\r\n",
    "punctuation = list(string.punctuation)\r\n",
    "stopWords = set(stopwords.words('english'))"
   ]
  },
  {
   "cell_type": "code",
   "execution_count": null,
   "metadata": {
    "id": "5GUhbct0yBCu"
   },
   "outputs": [],
   "source": [
    "def preprocess(sent):\r\n",
    "    temp = word_tokenize(sent)\r\n",
    "    filter = []\r\n",
    "    for w in temp:\r\n",
    "        if w.lower()not in stopWords and w not in punctuation:\r\n",
    "            filter.append(w)\r\n",
    "    return(' '.join(filter))"
   ]
  },
  {
   "cell_type": "code",
   "execution_count": null,
   "metadata": {
    "id": "XdM0xQXp0epF"
   },
   "outputs": [],
   "source": [
    "corpus = []\n",
    "corpus_raw = []\n",
    "labels = []\n",
    "proteins = []\n",
    "for line in PPI:\n",
    "    proteins.append(line[4:6])\n",
    "    corpus.append(preprocess(line[1].lower()))\n",
    "    corpus_raw.append(line[1].lower())\n",
    "    labels.append(line[-1])"
   ]
  },
  {
   "cell_type": "code",
   "execution_count": null,
   "metadata": {
    "colab": {
     "base_uri": "https://localhost:8080/"
    },
    "id": "tGQveT5q0epF",
    "outputId": "df9353b6-6d33-4623-f0b0-dd5f44ccea19"
   },
   "outputs": [],
   "source": [
    "vocab = []\n",
    "vocab_raw = []\n",
    "for doc in corpus:\n",
    "    vocab += doc.split()\n",
    "for doc in corpus_raw:\n",
    "    vocab_raw += doc.split()\n",
    "\n",
    "vocab = list(set(vocab))\n",
    "vocab_raw = list(set(vocab_raw))\n",
    "values = np.array(vocab)"
   ]
  },
  {
   "cell_type": "code",
   "execution_count": null,
   "metadata": {},
   "outputs": [],
   "source": [
    "len(vocab_raw)"
   ]
  },
  {
   "cell_type": "code",
   "execution_count": null,
   "metadata": {},
   "outputs": [],
   "source": [
    "len(vocab)"
   ]
  },
  {
   "cell_type": "markdown",
   "metadata": {
    "id": "B9_zkcZj0epG"
   },
   "source": [
    "## Encode the Sentences / Documents"
   ]
  },
  {
   "cell_type": "code",
   "execution_count": null,
   "metadata": {
    "id": "omw7ivOz0epG"
   },
   "outputs": [],
   "source": [
    "from tqdm import tqdm\n",
    "from sklearn.preprocessing import LabelEncoder\n",
    "from sklearn.preprocessing import OneHotEncoder\n",
    "from sklearn.feature_extraction.text import CountVectorizer "
   ]
  },
  {
   "cell_type": "code",
   "execution_count": null,
   "metadata": {
    "colab": {
     "base_uri": "https://localhost:8080/"
    },
    "id": "I7pEbruw0epG",
    "outputId": "9b3d25de-03b4-4f70-a824-935342ddcdd8"
   },
   "outputs": [],
   "source": [
    "# integer encode\n",
    "label_encoder = LabelEncoder()\n",
    "integer_encoded = label_encoder.fit_transform(values)\n",
    "print(integer_encoded.size)"
   ]
  },
  {
   "cell_type": "code",
   "execution_count": null,
   "metadata": {
    "id": "IR64Ivhv0epH"
   },
   "outputs": [],
   "source": [
    "def encode_sentence(sentence):\n",
    "    indices = label_encoder.transform(sentence.split())\n",
    "    vector = np.zeros(integer_encoded.size, dtype = 'int')\n",
    "    for index in indices:\n",
    "        vector[index] = 1\n",
    "    return(vector)"
   ]
  },
  {
   "cell_type": "code",
   "execution_count": null,
   "metadata": {
    "id": "AfApTHWb0epH"
   },
   "outputs": [],
   "source": [
    "enc_corpus = []\n",
    "for doc, label in tqdm(zip(corpus, labels), total = len(corpus)):\n",
    "    enc_corpus.append(encode_sentence(doc))"
   ]
  },
  {
   "cell_type": "code",
   "execution_count": null,
   "metadata": {
    "id": "5kSCG-Kb0epI"
   },
   "outputs": [],
   "source": [
    "from sklearn.decomposition import PCA\n",
    "pca = PCA(n_components=1000, svd_solver='arpack')\n",
    "red_dim_corpus = pca.fit_transform(enc_corpus)"
   ]
  },
  {
   "cell_type": "markdown",
   "metadata": {
    "id": "gR4EaJAz0epI"
   },
   "source": [
    "# Node formatting"
   ]
  },
  {
   "cell_type": "code",
   "execution_count": null,
   "metadata": {
    "id": "ZueJopba0epI"
   },
   "outputs": [],
   "source": [
    "index = 0\n",
    "nodes_true = []\n",
    "nodes_false = []\n",
    "\n",
    "for doc, label in tqdm(zip(red_dim_corpus, labels), total = len(red_dim_corpus)):\n",
    "    temp = ''\n",
    "    temp += str(index) + '\\t'\n",
    "    temp += '\\t'.join([str(n) for n in doc])\n",
    "    temp += '\\t'\n",
    "    temp += '\\t'+ str(float(label)) + '\\n'\n",
    "    index += 1\n",
    "    if(label):\n",
    "        nodes_true.append(temp)\n",
    "    else:\n",
    "        nodes_false.append(temp)"
   ]
  },
  {
   "cell_type": "code",
   "execution_count": null,
   "metadata": {
    "id": "PI0K5To20epJ"
   },
   "outputs": [],
   "source": [
    "from random import shuffle\n",
    "\n",
    "nodes = []\n",
    "nodes.extend(nodes_true)\n",
    "nodes.extend(nodes_false)\n",
    "\n",
    "shuffle(nodes)"
   ]
  },
  {
   "cell_type": "code",
   "execution_count": null,
   "metadata": {
    "id": "Zmcni8k80epJ"
   },
   "outputs": [],
   "source": [
    "with open('./utils/node_text', 'w') as f:\n",
    "    f.writelines(nodes)"
   ]
  },
  {
   "cell_type": "markdown",
   "metadata": {
    "id": "hkNr8Y1y0epJ"
   },
   "source": [
    "# Edge Formatting"
   ]
  },
  {
   "cell_type": "code",
   "execution_count": null,
   "metadata": {
    "id": "YUB1GRl10epJ"
   },
   "outputs": [],
   "source": [
    "protein_corpus = []\n",
    "for doc_proteins in proteins:\n",
    "    for protein in doc_proteins:\n",
    "        protein_corpus.append(protein)\n",
    "        \n",
    "protein_corpus = list(set(protein_corpus))"
   ]
  },
  {
   "cell_type": "code",
   "execution_count": null,
   "metadata": {
    "id": "NxQzzQVc0epK"
   },
   "outputs": [],
   "source": [
    "protein_encoder = LabelEncoder()\n",
    "protein_encodings = protein_encoder.fit_transform(protein_corpus)"
   ]
  },
  {
   "cell_type": "code",
   "execution_count": null,
   "metadata": {
    "id": "JTaOeHuU0epK"
   },
   "outputs": [],
   "source": [
    "doc_protein_encodings = []\n",
    "for protein in proteins:  \n",
    "    doc_protein_encodings.append(protein_encoder.transform(protein))"
   ]
  },
  {
   "cell_type": "code",
   "execution_count": null,
   "metadata": {
    "id": "Po3_Mc0P0epK"
   },
   "outputs": [],
   "source": [
    "edges = []\n",
    "for i in tqdm(range(len(doc_protein_encodings))):\n",
    "    for j, compare_to in enumerate(doc_protein_encodings):\n",
    "        for compare in doc_protein_encodings[i]:\n",
    "            if i != j and compare in compare_to:\n",
    "                edges.append(str(i) + \"\\t\" + str(j) + \"\\n\")\n",
    "                break"
   ]
  },
  {
   "cell_type": "code",
   "execution_count": null,
   "metadata": {
    "id": "33GxlaV20epK"
   },
   "outputs": [],
   "source": [
    "len(edges)"
   ]
  },
  {
   "cell_type": "code",
   "execution_count": null,
   "metadata": {
    "id": "fKZXpnPC0epL"
   },
   "outputs": [],
   "source": [
    "with open('./utils/link_text', 'w') as f:\n",
    "    f.writelines(edges)"
   ]
  },
  {
   "cell_type": "code",
   "execution_count": null,
   "metadata": {
    "id": "Pzhz3-0w0epL"
   },
   "outputs": [],
   "source": []
  }
 ],
 "metadata": {
  "colab": {
   "name": "Graph Formatting_BioInfer.ipynb",
   "provenance": []
  },
  "kernelspec": {
   "display_name": "Python 3",
   "language": "python",
   "name": "python3"
  },
  "language_info": {
   "codemirror_mode": {
    "name": "ipython",
    "version": 3
   },
   "file_extension": ".py",
   "mimetype": "text/x-python",
   "name": "python",
   "nbconvert_exporter": "python",
   "pygments_lexer": "ipython3",
   "version": "3.6.8"
  }
 },
 "nbformat": 4,
 "nbformat_minor": 2
}
